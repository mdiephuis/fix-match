{
 "cells": [
  {
   "cell_type": "code",
   "execution_count": 11,
   "metadata": {},
   "outputs": [
    {
     "name": "stdout",
     "output_type": "stream",
     "text": [
      "The autoreload extension is already loaded. To reload it, use:\n",
      "  %reload_ext autoreload\n"
     ]
    }
   ],
   "source": [
    "import sys\n",
    "sys.path.append('../')\n",
    "\n",
    "import torch\n",
    "import torch.nn as nn\n",
    "from torch.optim import Adam, SGD\n",
    "from torch.utils.data import DataLoader\n",
    "from torch.utils.data import sampler\n",
    "\n",
    "from torchvision.datasets import CIFAR10\n",
    "import torchvision.transforms as transforms\n",
    "\n",
    "\n",
    "import numpy as np\n",
    "import pandas as pd\n",
    "import os\n",
    "import glob\n",
    "import tqdm\n",
    "import matplotlib.pyplot as plt\n",
    "import seaborn as sns\n",
    "import sklearn\n",
    "\n",
    "import PIL\n",
    "\n",
    "eps = np.finfo(float).eps\n",
    "\n",
    "plt.rcParams['figure.figsize'] = 10, 10\n",
    "%matplotlib inline\n",
    "\n",
    "\n",
    "\n",
    "%load_ext autoreload\n",
    "%autoreload 2"
   ]
  },
  {
   "cell_type": "code",
   "execution_count": null,
   "metadata": {},
   "outputs": [],
   "source": []
  },
  {
   "cell_type": "markdown",
   "metadata": {},
   "source": [
    "- [ ]  auto contrast\n",
    "- [ ] brightness\n",
    "- [ ] to grayscale with prob p\n",
    "- [ ] constrast change\n",
    "- [ ] equalize\n",
    "- [ ] invert \n",
    "- [ ] do nothing\n",
    "- [ ] rescale\n",
    "- [ ] posterize\n",
    "- [ ] solarize\n",
    "- [ ] rotate + rescale\n",
    "- [ ] sharpness\n",
    "- [ ] smooth\n",
    "- [ ] flipx\n",
    "- [ ] flipy"
   ]
  },
  {
   "cell_type": "code",
   "execution_count": 7,
   "metadata": {},
   "outputs": [
    {
     "data": {
      "text/plain": [
       "4"
      ]
     },
     "execution_count": 7,
     "metadata": {},
     "output_type": "execute_result"
    }
   ],
   "source": [
    "np.random.choice(np.arange(1, 8))"
   ]
  },
  {
   "cell_type": "code",
   "execution_count": 205,
   "metadata": {},
   "outputs": [],
   "source": [
    "def cutout_test(image, p):\n",
    "\n",
    "    image = np.asarray(image).copy()\n",
    "\n",
    "    draw = np.random.rand()\n",
    "    if draw > p:\n",
    "        return image\n",
    "\n",
    "    h, w = image.shape[:2]\n",
    "\n",
    "    draw = np.random.uniform(0, 0.5, 1)\n",
    "    if draw == 0:\n",
    "        return image\n",
    "    else:\n",
    "        patch_size = int(draw * h)\n",
    "\n",
    "    lu_x = np.random.randint(0, w - patch_size)\n",
    "    lu_y = np.random.randint(0, h - patch_size)\n",
    "\n",
    "    mask_color = np.asarray([0.5, 0.5, 0.5])\n",
    "\n",
    "    image[lu_y:lu_y + patch_size, lu_x:lu_x + patch_size] = mask_color\n",
    "\n",
    "    return image\n",
    "\n",
    "\n",
    "def auto_contrast(image):\n",
    "    return PIL.ImageOps.autocontrast(image)\n",
    "\n",
    "    \n",
    "def brightness(image):\n",
    "    enhancer = PIL.ImageEnhance.Brightness(image)\n",
    "    factor = np.random.random()\n",
    "    enhancer.enhance(factor)\n",
    "    return image\n",
    "    \n",
    "\n",
    "def contrast(image):\n",
    "    enhancer = PIL.ImageEnhance.Contrast(image)\n",
    "    factor = np.random.random()\n",
    "    enhancer.enhance(factor)\n",
    "    return image\n",
    "    \n",
    "    \n",
    "def equalize(image, alpha=0.3):    \n",
    "    eq_image = PIL.ImageOps.equalize(image)\n",
    "    blend_image = PIL.Image.blend(image, eq_image, alpha)\n",
    "    return blend_image\n",
    "            \n",
    "\n",
    "def invert(image, alpha=0.3):\n",
    "    inv_image = PIL.ImageOps.invert(image)\n",
    "    blend_image = PIL.Image.blend(image, inv_image, alpha)\n",
    "    return blend_image\n",
    "\n",
    "\n",
    "def nop(image):\n",
    "    return image\n",
    "\n",
    "\n",
    "def posterize(image):\n",
    "    num_bits = np.random.choice(np.arange(1, 8))\n",
    "    return PIL.ImageOps.posterize(image, num_bits)\n",
    "\n",
    "\n",
    "def solarize(image):\n",
    "    max_val = image.getextrema()[0][0]\n",
    "    values = np.linspace(0, max_val, 256)\n",
    "    threshold = np.random.choice(values)\n",
    "    return PIL.ImageOps.solarize(image, threshold)\n",
    "\n",
    "\n",
    "def sharpness(image):\n",
    "    radius = 2\n",
    "    percent = 150\n",
    "    threshold = 3\n",
    "    H = PIL.ImageFilter.UnsharpMask(radius, percent, threshold)\n",
    "    image = image.filter(H)\n",
    "    return image\n",
    "\n",
    "\n",
    "def smooth(image):\n",
    "    radius = 0.5\n",
    "    H = PIL.ImageFilter.GaussianBlur(radius)\n",
    "    image = image.filter(H)\n",
    "    return image"
   ]
  },
  {
   "cell_type": "code",
   "execution_count": 206,
   "metadata": {},
   "outputs": [],
   "source": [
    "# image = PIL.Image.open('test.jpg')\n",
    "# inv_image = PIL.ImageOps.invert(image)\n",
    "# blend_image = PIL.Image.blend(inv_image, image, 0.3)"
   ]
  },
  {
   "cell_type": "code",
   "execution_count": 207,
   "metadata": {},
   "outputs": [],
   "source": [
    "# plt.imshow(blend_image)"
   ]
  },
  {
   "cell_type": "code",
   "execution_count": null,
   "metadata": {},
   "outputs": [],
   "source": []
  },
  {
   "cell_type": "code",
   "execution_count": 208,
   "metadata": {},
   "outputs": [],
   "source": [
    "transform_list = [\n",
    "    transforms.Lambda(lambda x: auto_contrast(x)),\n",
    "    transforms.Lambda(lambda x: brightness(x)),\n",
    "    transforms.RandomGrayscale(p=0.2),\n",
    "    transforms.Lambda(lambda x: contrast(x)),\n",
    "    transforms.Lambda(lambda x: equalize(x, alpha=0.3)),\n",
    "    transforms.Lambda(lambda x: invert(x, alpha=0.3)),\n",
    "    transforms.Lambda(lambda x: nop(x)),\n",
    "    transforms.RandomResizedCrop(32),\n",
    "    transforms.Lambda(lambda x: posterize(x)),\n",
    "    transforms.Lambda(lambda x: solarize(x)),\n",
    "    transforms.RandomRotation(degrees=35),\n",
    "    transforms.RandomHorizontalFlip(p=0.5),\n",
    "    transforms.RandomVerticalFlip(p=0.5),\n",
    "    transforms.Lambda(lambda x: sharpness(x)),\n",
    "    transforms.Lambda(lambda x: smooth(x)),\n",
    "    transforms.Lambda(lambda x: cutout_test(x, p=1.0))\n",
    "]\n",
    "\n",
    "transform_compose = transforms.Compose([\n",
    "    transforms.RandomChoice(transform_list),\n",
    "    transforms.ToTensor()\n",
    "])"
   ]
  },
  {
   "cell_type": "code",
   "execution_count": 209,
   "metadata": {},
   "outputs": [],
   "source": [
    "class LoaderCIFAR(object):\n",
    "    def __init__(self, file_path, transform_compose, download, batch_size, use_cuda):\n",
    "\n",
    "        kwargs = {'num_workers': 4, 'pin_memory': True} if use_cuda else {}\n",
    "\n",
    "        # Get the datasets\n",
    "        train_dataset = self.get_dataset(file_path, transform_compose, download)\n",
    "        \n",
    "        # Set the loaders\n",
    "        self.train_loader = DataLoader(train_dataset, batch_size=batch_size, shuffle=False, **kwargs)\n",
    "\n",
    "    @staticmethod\n",
    "    def get_dataset(file_path, transforms_compose, download):\n",
    "\n",
    "        # Training and Validation datasets\n",
    "        train_dataset = CIFAR10(root=file_path, train=True, download=download,\n",
    "                                        transform=transforms_compose,\n",
    "                                        target_transform=None)\n",
    "        return train_dataset\n"
   ]
  },
  {
   "cell_type": "code",
   "execution_count": 210,
   "metadata": {},
   "outputs": [
    {
     "name": "stdout",
     "output_type": "stream",
     "text": [
      "Files already downloaded and verified\n"
     ]
    }
   ],
   "source": [
    "loader = LoaderCIFAR('../data', transform_compose, True, 16, False)\n",
    "train_loader = loader.train_loader\n",
    "x = train_loader.__iter__().__next__()[0]"
   ]
  },
  {
   "cell_type": "code",
   "execution_count": 211,
   "metadata": {},
   "outputs": [],
   "source": [
    "im = x[0].numpy().transpose(1, 2, 0)"
   ]
  },
  {
   "cell_type": "code",
   "execution_count": 212,
   "metadata": {},
   "outputs": [
    {
     "data": {
      "text/plain": [
       "<matplotlib.image.AxesImage at 0x142cdae10>"
      ]
     },
     "execution_count": 212,
     "metadata": {},
     "output_type": "execute_result"
    },
    {
     "data": {
      "image/png": "[encoded data removed]",
      "text/plain": [
       "<Figure size 432x288 with 1 Axes>"
      ]
     },
     "metadata": {
      "needs_background": "light"
     },
     "output_type": "display_data"
    }
   ],
   "source": [
    "plt.imshow(im)"
   ]
  },
  {
   "cell_type": "code",
   "execution_count": null,
   "metadata": {},
   "outputs": [],
   "source": []
  }
 ],
 "metadata": {
  "kernelspec": {
   "display_name": "Python 3",
   "language": "python",
   "name": "python3"
  },
  "language_info": {
   "codemirror_mode": {
    "name": "ipython",
    "version": 3
   },
   "file_extension": ".py",
   "mimetype": "text/x-python",
   "name": "python",
   "nbconvert_exporter": "python",
   "pygments_lexer": "ipython3",
   "version": "3.7.4"
  }
 },
 "nbformat": 4,
 "nbformat_minor": 2
}
