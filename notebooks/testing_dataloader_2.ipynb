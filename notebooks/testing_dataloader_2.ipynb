{
 "cells": [
  {
   "cell_type": "code",
   "execution_count": 1,
   "metadata": {},
   "outputs": [],
   "source": [
    "import sys\n",
    "sys.path.append('../')\n",
    "\n",
    "import torch\n",
    "import torch.nn as nn\n",
    "from torch.optim import Adam, SGD\n",
    "from torch.utils.data import DataLoader\n",
    "from torch.utils.data import sampler\n",
    "\n",
    "import torchvision.datasets as dset\n",
    "import torchvision.transforms as transforms\n",
    "import torch.nn.functional as F\n",
    "\n",
    "import numpy as np\n",
    "import pandas as pd\n",
    "import os\n",
    "import glob\n",
    "import tqdm\n",
    "import matplotlib.pyplot as plt\n",
    "import seaborn as sns\n",
    "import sklearn\n",
    "\n",
    "import PIL\n",
    "\n",
    "eps = np.finfo(float).eps\n",
    "\n",
    "plt.rcParams['figure.figsize'] = 10, 10\n",
    "%matplotlib inline\n",
    "\n",
    "\n",
    "\n",
    "%load_ext autoreload\n",
    "%autoreload 2"
   ]
  },
  {
   "cell_type": "code",
   "execution_count": 1,
   "metadata": {},
   "outputs": [],
   "source": [
    "from torch.utils.data import DataLoader, Dataset\n",
    "from torchvision import transforms\n",
    "from torchvision.datasets import CIFAR10\n",
    "\n",
    "import numpy as np\n",
    "from torch.utils.data import SubsetRandomSampler, RandomSampler, BatchSampler\n",
    "\n",
    "from PIL import ImageFilter\n",
    "from PIL import Image\n",
    "import torch\n",
    "\n",
    "\n",
    "def cifar_strong_transforms():\n",
    "    all_transforms = transforms.Compose([\n",
    "        transforms.RandomResizedCrop(32),\n",
    "        transforms.RandomHorizontalFlip(p=0.5),\n",
    "        transforms.RandomApply([transforms.ColorJitter(0.4, 0.4, 0.4, 0.1)], p=0.8),\n",
    "        transforms.RandomGrayscale(p=0.2),\n",
    "        transforms.ToTensor(),\n",
    "        transforms.Normalize([0.4914, 0.4822, 0.4465], [0.2023, 0.1994, 0.2010])\n",
    "    ])\n",
    "    return all_transforms\n",
    "\n",
    "\n",
    "def cifar_weak_transforms():\n",
    "    all_transforms = transforms.Compose([\n",
    "        transforms.ToTensor(),\n",
    "        transforms.Normalize([0.4914, 0.4822, 0.4465], [0.2023, 0.1994, 0.2010])\n",
    "    ])\n",
    "    return all_transforms\n",
    "\n",
    "\n",
    "def cifar_test_transforms():\n",
    "    all_transforms = transforms.Compose([\n",
    "        transforms.ToTensor(),\n",
    "        transforms.Normalize([0.4914, 0.4822, 0.4465], [0.2023, 0.1994, 0.2010])\n",
    "    ])\n",
    "    return all_transforms\n",
    "\n",
    "\n",
    "class CIFAR10C(CIFAR10):\n",
    "    def __init__(self, weak_transform, strong_transform, *args, **kwargs):\n",
    "        super(CIFAR10C, self).__init__(*args, **kwargs)\n",
    "        self.weak_transform = weak_transform\n",
    "        self.strong_transform = strong_transform\n",
    "\n",
    "    def __getitem__(self, index):\n",
    "        img, target = self.data[index], self.targets[index]\n",
    "\n",
    "        # return a PIL Image\n",
    "        img = Image.fromarray(img)\n",
    "\n",
    "        xi = self.weak_transform(img)\n",
    "        xj = self.strong_transform(img)\n",
    "\n",
    "        if self.target_transform is not None:\n",
    "            target = self.target_transform(target)\n",
    "\n",
    "        # Return label just for debugging\n",
    "        return xi, xj, target\n",
    "\n",
    "\n",
    "class LoaderCIFAR(object):\n",
    "    def __init__(self, file_path, download, batch_size, mu, use_cuda):\n",
    "\n",
    "        kwargs = {'num_workers': 4, 'pin_memory': True} if use_cuda else {}\n",
    "        self.mu = mu\n",
    "\n",
    "        # Get the datasets\n",
    "        train_labeled_dataset, train_unlabeled_dataset, test_dataset = self.get_dataset(file_path, download)\n",
    "        \n",
    "        # Set the samplers\n",
    "        num_samples = len(train_labeled_dataset)\n",
    "        sampler_labeled = RandomSampler(train_labeled_dataset, replacement=True, num_samples=num_samples)\n",
    "        sampler_unlabeled = RandomSampler(train_unlabeled_dataset, replacement=True, num_samples=self.mu * num_samples)\n",
    "        \n",
    "        batch_sampler_labeled = BatchSampler(sampler_labeled, batch_size=batch_size, drop_last=False)\n",
    "        batch_sampler_unlabeled = BatchSampler(sampler_unlabeled, batch_size=self.mu * batch_size, drop_last=False)\n",
    "\n",
    "        \n",
    "        # Set the loaders\n",
    "        self.train_labeled = DataLoader(train_labeled_dataset, batch_sampler=batch_sampler_labeled, **kwargs)\n",
    "        self.train_unlabeled = DataLoader(train_unlabeled_dataset, batch_sampler=batch_sampler_unlabeled, **kwargs)\n",
    "\n",
    "        self.test = DataLoader(test_dataset, batch_size=batch_size, shuffle=False, **kwargs)\n",
    "\n",
    "        tmp_batch = self.test.__iter__().__next__()[0]\n",
    "        self.img_shape = list(tmp_batch.size())[1:]\n",
    "\n",
    "    @staticmethod\n",
    "    def get_dataset(file_path, download):\n",
    "\n",
    "        # transforms\n",
    "        weak_transform = cifar_weak_transforms()\n",
    "        strong_transform = cifar_strong_transforms()\n",
    "        test_transform = cifar_test_transforms()\n",
    "\n",
    "        # Training and Validation datasets\n",
    "        train_labeled_dataset = CIFAR10(root=file_path, train=True, download=download,\n",
    "                                        transform=weak_transform,\n",
    "                                        target_transform=None)\n",
    "        train_unlabeled_dataset = CIFAR10C(weak_transform=weak_transform, strong_transform=strong_transform,\n",
    "                                           root=file_path, train=True, download=download,\n",
    "                                           transform=None,\n",
    "                                           target_transform=None)\n",
    "\n",
    "        test_dataset = CIFAR10(root=file_path, train=False, download=download,\n",
    "                               transform=test_transform,\n",
    "                               target_transform=None)\n",
    "\n",
    "        return train_labeled_dataset, train_unlabeled_dataset, test_dataset"
   ]
  },
  {
   "cell_type": "code",
   "execution_count": 4,
   "metadata": {},
   "outputs": [
    {
     "name": "stdout",
     "output_type": "stream",
     "text": [
      "Files already downloaded and verified\n",
      "Files already downloaded and verified\n",
      "Files already downloaded and verified\n"
     ]
    }
   ],
   "source": [
    "batch_size = 64\n",
    "mu = 2\n",
    "loader = LoaderCIFAR('../data', True, batch_size, mu, False)"
   ]
  },
  {
   "cell_type": "code",
   "execution_count": 5,
   "metadata": {},
   "outputs": [
    {
     "name": "stdout",
     "output_type": "stream",
     "text": [
      "torch.Size([64, 3, 32, 32])\n",
      "782\n",
      "torch.Size([128, 3, 32, 32])\n",
      "782\n"
     ]
    }
   ],
   "source": [
    "d1 = loader.train_labeled\n",
    "d2 = loader.train_unlabeled\n",
    "\n",
    "x, y = d1.__iter__().__next__()\n",
    "print(x.size())\n",
    "print(len(d1))\n",
    "xi, xj, y = d2.__iter__().__next__()\n",
    "print(xi.size())\n",
    "print(len(d2))"
   ]
  },
  {
   "cell_type": "code",
   "execution_count": 6,
   "metadata": {},
   "outputs": [],
   "source": [
    "data_loader = zip(loader.train_labeled, loader.train_unlabeled)"
   ]
  },
  {
   "cell_type": "code",
   "execution_count": 7,
   "metadata": {},
   "outputs": [
    {
     "ename": "TypeError",
     "evalue": "object of type 'zip' has no len()",
     "output_type": "error",
     "traceback": [
      "\u001b[0;31m---------------------------------------------------------------------------\u001b[0m",
      "\u001b[0;31mTypeError\u001b[0m                                 Traceback (most recent call last)",
      "\u001b[0;32m<ipython-input-7-af07de749894>\u001b[0m in \u001b[0;36m<module>\u001b[0;34m\u001b[0m\n\u001b[0;32m----> 1\u001b[0;31m \u001b[0mlen\u001b[0m\u001b[0;34m(\u001b[0m\u001b[0mdata_loader\u001b[0m\u001b[0;34m)\u001b[0m\u001b[0;34m\u001b[0m\u001b[0;34m\u001b[0m\u001b[0m\n\u001b[0m",
      "\u001b[0;31mTypeError\u001b[0m: object of type 'zip' has no len()"
     ]
    }
   ],
   "source": [
    "len(data_loader)"
   ]
  },
  {
   "cell_type": "code",
   "execution_count": null,
   "metadata": {},
   "outputs": [],
   "source": []
  }
 ],
 "metadata": {
  "kernelspec": {
   "display_name": "Python 3",
   "language": "python",
   "name": "python3"
  },
  "language_info": {
   "codemirror_mode": {
    "name": "ipython",
    "version": 3
   },
   "file_extension": ".py",
   "mimetype": "text/x-python",
   "name": "python",
   "nbconvert_exporter": "python",
   "pygments_lexer": "ipython3",
   "version": "3.7.4"
  },
  "latex_envs": {
   "LaTeX_envs_menu_present": true,
   "autoclose": false,
   "autocomplete": true,
   "bibliofile": "biblio.bib",
   "cite_by": "apalike",
   "current_citInitial": 1,
   "eqLabelWithNumbers": true,
   "eqNumInitial": 1,
   "hotkeys": {
    "equation": "Ctrl-E",
    "itemize": "Ctrl-I"
   },
   "labels_anchors": false,
   "latex_user_defs": false,
   "report_style_numbering": false,
   "user_envs_cfg": false
  },
  "varInspector": {
   "cols": {
    "lenName": 16,
    "lenType": 16,
    "lenVar": 40
   },
   "kernels_config": {
    "python": {
     "delete_cmd_postfix": "",
     "delete_cmd_prefix": "del ",
     "library": "var_list.py",
     "varRefreshCmd": "print(var_dic_list())"
    },
    "r": {
     "delete_cmd_postfix": ") ",
     "delete_cmd_prefix": "rm(",
     "library": "var_list.r",
     "varRefreshCmd": "cat(var_dic_list()) "
    }
   },
   "types_to_exclude": [
    "module",
    "function",
    "builtin_function_or_method",
    "instance",
    "_Feature"
   ],
   "window_display": false
  }
 },
 "nbformat": 4,
 "nbformat_minor": 2
}
